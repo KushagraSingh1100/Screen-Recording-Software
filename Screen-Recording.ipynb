{
 "cells": [
  {
   "cell_type": "code",
   "execution_count": 8,
   "id": "11c4a865",
   "metadata": {},
   "outputs": [
    {
     "name": "stdout",
     "output_type": "stream",
     "text": [
      "Enter the file path and name where you want to store the screen-recordingC:\\Users\\Lenovo\\Desktop\\screen.mp4\n"
     ]
    }
   ],
   "source": [
    "import cv2\n",
    "import pyautogui as p\n",
    "import numpy\n",
    "fn = input(\"Enter the file path and name where you want to store the screen-recording\")\n",
    "\n",
    "#used for saving the recording\n",
    "fourcc = cv2.VideoWriter_fourcc(*'XVID')\n",
    "output = cv2.VideoWriter(fn,fourcc,24,(1920,1080))\n",
    "\n",
    "#creating the window for the live recording\n",
    "cv2.namedWindow(\"LiveRecording\", cv2.WINDOW_NORMAL)\n",
    "\n",
    "\n",
    "while True:\n",
    "    #take screenshots in form of array then arranges them into video\n",
    "    img = p.screenshot()\n",
    "    f = numpy.array(img)\n",
    "    \n",
    "    #converting the color as python records the video in BGR color format but monitors support RGB color format\n",
    "    f = cv2.cvtColor(f,cv2.COLOR_BGR2RGB)\n",
    "    output.write(f)\n",
    "    cv2.imshow(\"LiveRecording\", f)\n",
    "    if cv2.waitKey(1) == ord(\"q\"):\n",
    "        break\n",
    "        \n",
    "cv2.destroyAllWindows()\n",
    "output.release()"
   ]
  }
 ],
 "metadata": {
  "kernelspec": {
   "display_name": "Python 3 (ipykernel)",
   "language": "python",
   "name": "python3"
  },
  "language_info": {
   "codemirror_mode": {
    "name": "ipython",
    "version": 3
   },
   "file_extension": ".py",
   "mimetype": "text/x-python",
   "name": "python",
   "nbconvert_exporter": "python",
   "pygments_lexer": "ipython3",
   "version": "3.11.7"
  }
 },
 "nbformat": 4,
 "nbformat_minor": 5
}
